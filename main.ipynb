{
  "nbformat": 4,
  "nbformat_minor": 0,
  "metadata": {
    "colab": {
      "provenance": [],
      "collapsed_sections": [],
      "authorship_tag": "ABX9TyN+1EiTK8AGuP1MD5pUAljq",
      "include_colab_link": true
    },
    "kernelspec": {
      "name": "python3",
      "display_name": "Python 3"
    },
    "language_info": {
      "name": "python"
    }
  },
  "cells": [
    {
      "cell_type": "markdown",
      "metadata": {
        "id": "view-in-github",
        "colab_type": "text"
      },
      "source": [
        "<a href=\"https://colab.research.google.com/github/theATM/geo-detection-notebook/blob/master/main.ipynb\" target=\"_parent\"><img src=\"https://colab.research.google.com/assets/colab-badge.svg\" alt=\"Open In Colab\"/></a>"
      ]
    },
    {
      "cell_type": "code",
      "execution_count": 1,
      "metadata": {
        "id": "6Q7P8ah-ChF1",
        "colab": {
          "base_uri": "https://localhost:8080/"
        },
        "outputId": "fd3dd1d9-66d3-4acf-f883-ec93a752a756"
      },
      "outputs": [
        {
          "output_type": "stream",
          "name": "stdout",
          "text": [
            "Mounted at /content/drive\n",
            "/content/drive/MyDrive/Colab Notebooks/Projects/GeoDetect\n",
            "\u001b[0m\u001b[01;34mcode\u001b[0m/\n",
            "mkdir: cannot create directory ‘code’: File exists\n",
            "fatal: destination path 'code' already exists and is not an empty directory.\n",
            "/content/drive/MyDrive/Colab Notebooks/Projects/GeoDetect/code\n"
          ]
        }
      ],
      "source": [
        "from google.colab import drive\n",
        "drive.mount('/content/drive', force_remount=True)\n",
        "%cd \"drive/MyDrive/Colab Notebooks/Projects/GeoDetect\"\n",
        "%ls\n",
        "!mkdir code\n",
        "!git clone https://github.com/theATM/geo-detection-notebook.git code\n",
        "%cd code"
      ]
    },
    {
      "cell_type": "code",
      "source": [
        "!git pull"
      ],
      "metadata": {
        "id": "P31XPdj-EEbc",
        "outputId": "551491fd-c1e2-439e-e73b-d50dbb28134b",
        "colab": {
          "base_uri": "https://localhost:8080/"
        }
      },
      "execution_count": 2,
      "outputs": [
        {
          "output_type": "stream",
          "name": "stdout",
          "text": [
            "Already up to date.\n"
          ]
        }
      ]
    },
    {
      "cell_type": "code",
      "source": [
        "!python --version\n",
        "%pip install -r requirements.txt"
      ],
      "metadata": {
        "id": "W_o-SNvc6XNh"
      },
      "execution_count": null,
      "outputs": []
    },
    {
      "cell_type": "code",
      "source": [],
      "metadata": {
        "id": "h2680LYFE5k0",
        "outputId": "d4018770-a84d-4f3f-baba-bfbdc187b530",
        "colab": {
          "base_uri": "https://localhost:8080/"
        }
      },
      "execution_count": 4,
      "outputs": [
        {
          "output_type": "stream",
          "name": "stdout",
          "text": [
            "Python 3.7.14\n"
          ]
        }
      ]
    }
  ]
}